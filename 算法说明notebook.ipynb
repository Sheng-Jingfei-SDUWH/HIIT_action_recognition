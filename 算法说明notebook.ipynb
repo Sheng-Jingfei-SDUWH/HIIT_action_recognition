{
 "cells": [
  {
   "cell_type": "markdown",
   "source": [
    "#算法代码及解析\n",
    "（收集数据与算法测试阶段与同学共享数据、分享方法，但无共享代码，可能有部分雷同；小程序制作完全独立）"
   ],
   "metadata": {
    "collapsed": false
   }
  },
  {
   "cell_type": "markdown",
   "source": [
    "##数据处理\n",
    "1、收集数据后导出json文件\n",
    "2、筛选数据：算法所用数据频率为60ms/次，因不同手机稳定性不同，根据数据个数筛除差距较大数据\n",
    "3、滤波：让数据更加平滑，减少手部不稳定带来的误差\n",
    "4、拆分数据：每个窗格为2.56秒，采用两个窗格间重合一半的原则把数据拆分\n",
    "5、每个窗格分别对x, y, z轴加速度，x, y, z轴陀螺仪数据提取六个特征值：均值、方差、最大值、最小值、中位数、绝对中位差，再把六组特征值合并，得到此窗格的36个特征值"
   ],
   "metadata": {
    "collapsed": false
   }
  },
  {
   "cell_type": "code",
   "execution_count": null,
   "outputs": [],
   "source": [
    "import json\n",
    "from scipy import signal\n",
    "import numpy as np\n",
    "import joblib\n",
    "from scipy import stats\n",
    "from sklearn.ensemble.forest import RandomForestClassifier\n",
    "from sklearn.model_selection import train_test_split\n",
    "import pandas as pd\n",
    "import matplotlib.pyplot as plt\n",
    "\n",
    "#读取json文件\n",
    "def read_json(file_name):\n",
    "     with open(file_name,'r', encoding = 'utf-8') as file:\n",
    "          data = []\n",
    "          for line in file.readlines():\n",
    "               dic = json.loads(line)\n",
    "               data.append(dic)\n",
    "     return data\n",
    "\n",
    "#滤波\n",
    "def lvbo(data):\n",
    "     b, a = signal.butter(8, 0.1, 'lowpass')\n",
    "     filtedData = signal.filtfilt(b, a, data)\n",
    "     return filtedData\n",
    "\n",
    "#把数据拆分为重叠的窗格\n",
    "def dataOverlap(data):\n",
    "    data2 = []\n",
    "    length = len(data)\n",
    "    n = length//21\n",
    "    for i in range(n-1):\n",
    "        data2.append([])\n",
    "        for j in range(21*i,21*(i+2)):\n",
    "            data2[i].append(data[j])\n",
    "    return data2\n",
    "\n",
    "#提取特征值\n",
    "def feature(accx, accy, accz, gyrx, gyry, gyrz):\n",
    "    data = []\n",
    "    for i in range(len(accx)):\n",
    "        data_ = []\n",
    "        data_ += [max(accx[i]), min(accx[i]), np.median(accx[i]), np.mean(accx[i]), np.std(accx[i]), stats.median_absolute_deviation(accx[i])]\n",
    "        data_ += [max(accy[i]), min(accy[i]), np.median(accy[i]), np.mean(accy[i]), np.std(accy[i]), stats.median_absolute_deviation(accy[i])]\n",
    "        data_ += [max(accz[i]), min(accz[i]), np.median(accz[i]), np.mean(accz[i]), np.std(accz[i]), stats.median_absolute_deviation(accz[i])]\n",
    "        data_ += [max(gyrx[i]), min(gyrx[i]), np.median(gyrx[i]), np.mean(gyrx[i]), np.std(gyrx[i]), stats.median_absolute_deviation(gyrx[i])]\n",
    "        data_ += [max(gyry[i]), min(gyry[i]), np.median(gyry[i]), np.mean(gyry[i]), np.std(gyry[i]), stats.median_absolute_deviation(gyry[i])]\n",
    "        data_ += [max(gyrz[i]), min(gyrz[i]), np.median(gyrz[i]), np.mean(gyrz[i]), np.std(gyrz[i]), stats.median_absolute_deviation(gyrz[i])]\n",
    "        data.append(data_)\n",
    "    return data\n",
    "\n",
    "data = np.loadtxt('raw_data/data.txt')\n",
    "target = []\n",
    "for i in range(91):\n",
    "    target.append(1)\n",
    "for i in range(91, 198):\n",
    "    target.append(2)\n",
    "for i in range(198, 480):\n",
    "    target.append(3)\n",
    "for i in range(480, 806):\n",
    "    target.append(4)"
   ],
   "metadata": {
    "collapsed": false,
    "pycharm": {
     "name": "#%%\n"
    }
   }
  },
  {
   "cell_type": "markdown",
   "source": [
    "##算法\n",
    "通过比较knn、随机森林等分类算法，随机森林有较高的准确率"
   ],
   "metadata": {
    "collapsed": false
   }
  },
  {
   "cell_type": "code",
   "execution_count": null,
   "outputs": [],
   "source": [
    "X_train, X_test, y_train, y_test = train_test_split(data, target, test_size=0.3)\n",
    "model = RandomForestClassifier()\n",
    "model = model.fit(X_train, y_train)\n",
    "result = model.score(X_test, y_test)\n",
    "joblib.dump(model, \"./rfc2.pkl\")\n",
    "print(result)\n",
    "print(len(X_test))"
   ],
   "metadata": {
    "collapsed": false,
    "pycharm": {
     "name": "#%%\n"
    }
   }
  },
  {
   "cell_type": "markdown",
   "source": [
    "#服务器代码\n",
    "小程序每2.56秒把数据发送到服务器，服务器经过滤波、提取特征值的数据处理后，利用训练的模型预测动作，并将动作编号发送给小程序"
   ],
   "metadata": {
    "collapsed": false
   }
  },
  {
   "cell_type": "code",
   "execution_count": null,
   "outputs": [],
   "source": [
    "from flask import Flask,request\n",
    "app = Flask(__name__)\n",
    "import joblib\n",
    "import numpy as np\n",
    "from scipy import signal, stats\n",
    "@app.route('/',methods=['post','get'])\n",
    "\n",
    "def index():\n",
    "    fr = open('rfcModel.pkl', 'rb')\n",
    "    inf = joblib.load(fr)\n",
    "    fr.close()\n",
    "\n",
    "    data =  request.get_json()\n",
    "    processed_data = []\n",
    "    b, a = signal.butter(8, 0.1, 'lowpass')\n",
    "    processed_data += dataProcess(data['accXs'], b, a)\n",
    "    processed_data += dataProcess(data['accYs'], b, a)\n",
    "    processed_data += dataProcess(data['accZs'], b, a)\n",
    "    processed_data += dataProcess(data['gyrXs'], b, a)\n",
    "    processed_data += dataProcess(data['gyrYs'], b, a)\n",
    "    processed_data += dataProcess(data['gyrZs'], b, a)\n",
    "    predict = inf.predict([processed_data])\n",
    "    return str(predict)\n",
    "\n",
    "def dataProcess(data,b,a):\n",
    "    data_ = signal.filtfilt(b, a, data)\n",
    "    processed_data = [max(data_), min(data_), np.median(data_), np.mean(data_), np.var(data_),stats.median_absolute_deviation(data_)]\n",
    "    return processed_data\n",
    "\n",
    "if __name__ == '__main__':\n",
    "    app.run(host='172.17.0.2', debug=True,port=8000)\n",
    "\n"
   ],
   "metadata": {
    "collapsed": false,
    "pycharm": {
     "name": "#%%\n"
    }
   }
  }
 ],
 "metadata": {
  "kernelspec": {
   "display_name": "Python 3",
   "language": "python",
   "name": "python3"
  },
  "language_info": {
   "codemirror_mode": {
    "name": "ipython",
    "version": 2
   },
   "file_extension": ".py",
   "mimetype": "text/x-python",
   "name": "python",
   "nbconvert_exporter": "python",
   "pygments_lexer": "ipython2",
   "version": "2.7.6"
  }
 },
 "nbformat": 4,
 "nbformat_minor": 0
}